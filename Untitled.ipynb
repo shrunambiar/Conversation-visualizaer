{
 "cells": [
  {
   "cell_type": "code",
   "execution_count": 132,
   "metadata": {},
   "outputs": [],
   "source": [
    "import pandas as pd\n",
    "import numpy as np\n",
    "import matplotlib.pyplot as plt\n",
    "from datetime import datetime \n",
    "import sys"
   ]
  },
  {
   "cell_type": "code",
   "execution_count": 150,
   "metadata": {},
   "outputs": [
    {
     "data": {
      "text/html": [
       "<div>\n",
       "<style scoped>\n",
       "    .dataframe tbody tr th:only-of-type {\n",
       "        vertical-align: middle;\n",
       "    }\n",
       "\n",
       "    .dataframe tbody tr th {\n",
       "        vertical-align: top;\n",
       "    }\n",
       "\n",
       "    .dataframe thead th {\n",
       "        text-align: right;\n",
       "    }\n",
       "</style>\n",
       "<table border=\"1\" class=\"dataframe\">\n",
       "  <thead>\n",
       "    <tr style=\"text-align: right;\">\n",
       "      <th></th>\n",
       "      <th>id</th>\n",
       "      <th>topicID</th>\n",
       "      <th>groupID</th>\n",
       "      <th>time</th>\n",
       "      <th>user</th>\n",
       "      <th>parent</th>\n",
       "      <th>numChildren</th>\n",
       "      <th>chars_total</th>\n",
       "      <th>textchars</th>\n",
       "      <th>images</th>\n",
       "    </tr>\n",
       "  </thead>\n",
       "  <tbody>\n",
       "    <tr>\n",
       "      <th>0</th>\n",
       "      <td>10001</td>\n",
       "      <td>119186</td>\n",
       "      <td>5001</td>\n",
       "      <td>2017-07-27T10:28:18+00:00</td>\n",
       "      <td>1001</td>\n",
       "      <td>NaN</td>\n",
       "      <td>0</td>\n",
       "      <td>1164</td>\n",
       "      <td>1073</td>\n",
       "      <td>0</td>\n",
       "    </tr>\n",
       "    <tr>\n",
       "      <th>1</th>\n",
       "      <td>10002</td>\n",
       "      <td>119186</td>\n",
       "      <td>5001</td>\n",
       "      <td>2017-07-27T10:57:39+00:00</td>\n",
       "      <td>1001</td>\n",
       "      <td>NaN</td>\n",
       "      <td>0</td>\n",
       "      <td>1051</td>\n",
       "      <td>976</td>\n",
       "      <td>0</td>\n",
       "    </tr>\n",
       "    <tr>\n",
       "      <th>2</th>\n",
       "      <td>10003</td>\n",
       "      <td>119186</td>\n",
       "      <td>5001</td>\n",
       "      <td>2017-07-27T14:38:11+00:00</td>\n",
       "      <td>1002</td>\n",
       "      <td>NaN</td>\n",
       "      <td>0</td>\n",
       "      <td>900</td>\n",
       "      <td>790</td>\n",
       "      <td>0</td>\n",
       "    </tr>\n",
       "    <tr>\n",
       "      <th>3</th>\n",
       "      <td>10004</td>\n",
       "      <td>119186</td>\n",
       "      <td>5001</td>\n",
       "      <td>2017-07-27T14:41:42+00:00</td>\n",
       "      <td>1002</td>\n",
       "      <td>NaN</td>\n",
       "      <td>1</td>\n",
       "      <td>686</td>\n",
       "      <td>585</td>\n",
       "      <td>0</td>\n",
       "    </tr>\n",
       "    <tr>\n",
       "      <th>4</th>\n",
       "      <td>10005</td>\n",
       "      <td>119186</td>\n",
       "      <td>5001</td>\n",
       "      <td>2017-08-02T03:05:12+00:00</td>\n",
       "      <td>1003</td>\n",
       "      <td>10004.0</td>\n",
       "      <td>0</td>\n",
       "      <td>205</td>\n",
       "      <td>118</td>\n",
       "      <td>0</td>\n",
       "    </tr>\n",
       "  </tbody>\n",
       "</table>\n",
       "</div>"
      ],
      "text/plain": [
       "      id  topicID  groupID                       time  user   parent  \\\n",
       "0  10001   119186     5001  2017-07-27T10:28:18+00:00  1001      NaN   \n",
       "1  10002   119186     5001  2017-07-27T10:57:39+00:00  1001      NaN   \n",
       "2  10003   119186     5001  2017-07-27T14:38:11+00:00  1002      NaN   \n",
       "3  10004   119186     5001  2017-07-27T14:41:42+00:00  1002      NaN   \n",
       "4  10005   119186     5001  2017-08-02T03:05:12+00:00  1003  10004.0   \n",
       "\n",
       "   numChildren  chars_total  textchars  images  \n",
       "0            0         1164       1073       0  \n",
       "1            0         1051        976       0  \n",
       "2            0          900        790       0  \n",
       "3            1          686        585       0  \n",
       "4            0          205        118       0  "
      ]
     },
     "execution_count": 150,
     "metadata": {},
     "output_type": "execute_result"
    }
   ],
   "source": [
    "df = pd.read_csv(\"2017-5-5.csv\")\n",
    "df.head()"
   ]
  },
  {
   "cell_type": "code",
   "execution_count": 151,
   "metadata": {},
   "outputs": [
    {
     "data": {
      "text/plain": [
       "4"
      ]
     },
     "execution_count": 151,
     "metadata": {},
     "output_type": "execute_result"
    }
   ],
   "source": [
    "ls= df.groupID.unique()\n",
    "d={}\n",
    "for i in ls:\n",
    "    d[i]=data=df.loc[df['groupID']== i]\n",
    "len(ls)"
   ]
  },
  {
   "cell_type": "code",
   "execution_count": 155,
   "metadata": {},
   "outputs": [
    {
     "name": "stderr",
     "output_type": "stream",
     "text": [
      "C:\\Ananconda3\\lib\\site-packages\\ipykernel_launcher.py:10: SettingWithCopyWarning: \n",
      "A value is trying to be set on a copy of a slice from a DataFrame.\n",
      "Try using .loc[row_indexer,col_indexer] = value instead\n",
      "\n",
      "See the caveats in the documentation: http://pandas.pydata.org/pandas-docs/stable/indexing.html#indexing-view-versus-copy\n",
      "  # Remove the CWD from sys.path while we load stuff.\n",
      "C:\\Ananconda3\\lib\\site-packages\\ipykernel_launcher.py:12: SettingWithCopyWarning: \n",
      "A value is trying to be set on a copy of a slice from a DataFrame.\n",
      "Try using .loc[row_indexer,col_indexer] = value instead\n",
      "\n",
      "See the caveats in the documentation: http://pandas.pydata.org/pandas-docs/stable/indexing.html#indexing-view-versus-copy\n",
      "  if sys.path[0] == '':\n",
      "C:\\Ananconda3\\lib\\site-packages\\ipykernel_launcher.py:14: SettingWithCopyWarning: \n",
      "A value is trying to be set on a copy of a slice from a DataFrame.\n",
      "Try using .loc[row_indexer,col_indexer] = value instead\n",
      "\n",
      "See the caveats in the documentation: http://pandas.pydata.org/pandas-docs/stable/indexing.html#indexing-view-versus-copy\n",
      "  \n",
      "C:\\Ananconda3\\lib\\site-packages\\ipykernel_launcher.py:16: SettingWithCopyWarning: \n",
      "A value is trying to be set on a copy of a slice from a DataFrame.\n",
      "Try using .loc[row_indexer,col_indexer] = value instead\n",
      "\n",
      "See the caveats in the documentation: http://pandas.pydata.org/pandas-docs/stable/indexing.html#indexing-view-versus-copy\n",
      "  app.launch_new_instance()\n"
     ]
    },
    {
     "data": {
      "image/png": "[encoded data removed]",
      "text/plain": [
       "<Figure size 800x800 with 4 Axes>"
      ]
     },
     "metadata": {},
     "output_type": "display_data"
    }
   ],
   "source": [
    "from matplotlib.pyplot import figure\n",
    "figure(num=None, figsize=(10, 10), dpi=80, facecolor='w', edgecolor='k')\n",
    "start=321\n",
    "add=0\n",
    "for i in ls:\n",
    "   \n",
    "    df1=d[i].loc[d[i]['parent'].isnull()]\n",
    "    df2=d[i].loc[d[i]['parent'].notnull()]\n",
    "    \n",
    "    df1['time']=df1['time'].apply(lambda x: datetime.strptime(x.split('T')[0].replace('-',' '),\"%Y %m %d\"))\n",
    "    t0 = min(df1['time'])\n",
    "    df1['time']=df1['time'].apply(lambda x: (x-t0).days)\n",
    "    \n",
    "    df2['time']=df2['time'].apply(lambda x: datetime.strptime(x.split('T')[0].replace('-',' '),\"%Y %m %d\"))\n",
    "    t0 = min(df2['time'])\n",
    "    df2['time']=df2['time'].apply(lambda x: (x-t0).days)\n",
    "    \n",
    "    x = df1['time'].values\n",
    "    y = df1['textchars']\n",
    "    \n",
    "    p =df2['time'].values\n",
    "    q =df2['textchars']\n",
    "    \n",
    "\n",
    "    val= start+add\n",
    "    plt.subplot(val)\n",
    "    plt.scatter(x,y,s=4)\n",
    "    plt.scatter(p,q,s=4)\n",
    "    add=add+1\n",
    "    \n",
    "plt.show()"
   ]
  },
  {
   "cell_type": "code",
   "execution_count": 112,
   "metadata": {},
   "outputs": [
    {
     "data": {
      "image/png": "[encoded data removed]",
      "text/plain": [
       "<Figure size 1200x640 with 1 Axes>"
      ]
     },
     "metadata": {},
     "output_type": "display_data"
    }
   ],
   "source": [
    "from matplotlib.pyplot import figure\n",
    "figure(num=None, figsize=(15, 8), dpi=80, facecolor='w', edgecolor='k')\n",
    "\n",
    "x = df1['time'].values\n",
    "y = df1['textchars']\n",
    "\n",
    "p =df2['time'].values\n",
    "q =df2['textchars']\n",
    "\n",
    "plt.scatter(x, y, s=15, color='r')\n",
    "plt.scatter(p, q, s=15, color='g')\n",
    "plt.show()\n"
   ]
  },
  {
   "cell_type": "code",
   "execution_count": null,
   "metadata": {},
   "outputs": [],
   "source": []
  }
 ],
 "metadata": {
  "kernelspec": {
   "display_name": "Python 3",
   "language": "python",
   "name": "python3"
  },
  "language_info": {
   "codemirror_mode": {
    "name": "ipython",
    "version": 3
   },
   "file_extension": ".py",
   "mimetype": "text/x-python",
   "name": "python",
   "nbconvert_exporter": "python",
   "pygments_lexer": "ipython3",
   "version": "3.6.5"
  }
 },
 "nbformat": 4,
 "nbformat_minor": 2
}
